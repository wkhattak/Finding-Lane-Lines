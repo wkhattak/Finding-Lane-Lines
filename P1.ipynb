{
 "cells": [
  {
   "cell_type": "code",
   "execution_count": 1,
   "metadata": {},
   "outputs": [],
   "source": [
    "\"\"\"\n",
    "File name: P1.ipynb\n",
    "Author: Wajid Khattak\n",
    "Date created: 2017-10-10\n",
    "Date last modified: 2017-10-14\n",
    "Python Version: 3.5.2\n",
    "\n",
    "\"\"\"\n",
    "import matplotlib.pyplot as plt\n",
    "import matplotlib.image as mpimg\n",
    "import numpy as np\n",
    "import cv2\n",
    "import math\n",
    "import os\n",
    "from moviepy.editor import VideoFileClip\n",
    "from IPython.display import HTML\n",
    "%matplotlib inline\n",
    "\n",
    "def grayscale(img):\n",
    "    \"\"\"Applies the Grayscale transform\n",
    "    This will return an image with only one color channel\n",
    "    but NOTE: to see the returned image as grayscale\n",
    "    (assuming your grayscaled image is called 'gray')\n",
    "    you should call plt.imshow(gray, cmap='gray')\"\"\"\n",
    "    return cv2.cvtColor(img, cv2.COLOR_RGB2GRAY)\n",
    "    # Or use BGR2GRAY if you read an image with cv2.imread()\n",
    "    # return cv2.cvtColor(img, cv2.COLOR_BGR2GRAY)\n",
    "    \n",
    "def gaussian_blur(img, kernel_size):\n",
    "    \"\"\"Applies a Gaussian Noise kernel\"\"\"\n",
    "    return cv2.GaussianBlur(img, (kernel_size, kernel_size), 0)\n",
    "\n",
    "def canny(img, low_threshold, high_threshold):\n",
    "    \"\"\"\n",
    "    Applies the Canny transform\n",
    "    Returns edges\n",
    "    \"\"\"\n",
    "    return cv2.Canny(img, low_threshold, high_threshold)\n",
    "\n",
    "def region_of_interest(img, vertices):\n",
    "    \"\"\"\n",
    "    Applies an image mask.\n",
    "    \n",
    "    Only keeps the region of the image defined by the polygon\n",
    "    formed from `vertices`. The rest of the image is set to black.\n",
    "    \"\"\"\n",
    "    #defining a blank mask to start with\n",
    "    mask = np.zeros_like(img)   \n",
    "\n",
    "    #defining a 3 channel or 1 channel color to fill the mask with depending on the input image\n",
    "    if len(img.shape) > 2:\n",
    "        channel_count = img.shape[2]  # i.e. 3 or 4 depending on your image\n",
    "        ignore_mask_color = (255,) * channel_count\n",
    "    else:\n",
    "        ignore_mask_color = 255\n",
    "                \n",
    "    #filling pixels inside the polygon defined by \"vertices\" with the fill color    \n",
    "    cv2.fillPoly(mask, vertices, ignore_mask_color)\n",
    "\n",
    "    #find those bits that are both 1 i.e bits that are 1 in the canny edge output and the mask\n",
    "    masked_image = cv2.bitwise_and(img, mask)\n",
    "    return masked_image,mask\n",
    "\n",
    "\n",
    "def draw_lines(img, lines, color=[255, 0, 0], thickness=2):\n",
    "    \"\"\"   \n",
    "    This function draws `lines` with `color` and `thickness`.    \n",
    "    Lines are drawn on the image inplace (mutates the image).\n",
    "    If you want to make the lines semi-transparent, think about combining\n",
    "    this function with the weighted_img() function below\n",
    "    \"\"\"\n",
    "    for line in lines:\n",
    "        for x1,y1,x2,y2 in line:\n",
    "            cv2.line(img, (x1, y1), (x2, y2), color, thickness)\n",
    "\n",
    "def hough_lines(img, rho, theta, threshold, min_line_len, max_line_gap):\n",
    "    \"\"\"\n",
    "    Applies Hough Transform\n",
    "    `img` should be the output of a Canny transform.    \n",
    "    Returns hough lines and image drawn on a blank image.\n",
    "    \"\"\"\n",
    "    lines = cv2.HoughLinesP(img, rho, theta, threshold, np.array([]), minLineLength=min_line_len, maxLineGap=max_line_gap)\n",
    "    line_image = np.zeros((img.shape[0], img.shape[1], 3), dtype=np.uint8)\n",
    "       \n",
    "    # Iterate over the output \"lines\" and draw lines on a blank image\n",
    "    for line in lines:\n",
    "        for x1,y1,x2,y2 in line:\n",
    "            cv2.line(line_image,(x1,y1),(x2,y2),(255,0,0),10)\n",
    "    \n",
    "    return lines, line_image\n",
    "\n",
    "def weighted_img(img, initial_img, α=0.8, β=1., λ=0.):\n",
    "    \"\"\"\n",
    "    Combines two images based on α,β,λ values\n",
    "    \n",
    "    `img` is the output of the hough_lines(), An image with lines drawn on it.\n",
    "    Should be a blank image (all black) with lines drawn on it.\n",
    "    \n",
    "    `initial_img` should be the image before any processing.\n",
    "    \n",
    "    The result image is computed as follows:\n",
    "    \n",
    "    initial_img * α + img * β + λ\n",
    "    NOTE: initial_img and img must be the same shape!\n",
    "    \"\"\"\n",
    "    return cv2.addWeighted(initial_img, α, img, β, λ)\n",
    "\n",
    "def find_left_right_lines(lines):\n",
    "    \"\"\"\n",
    "    Finds left and right lane lines by calculating slope of the lines.\n",
    "    Lines with negative slopes are assigned to left side & vice-versa.\n",
    "    However, lines with slope between -0.35 & +0.35 are ignored,\n",
    "    as these generally represent horizontal lines e.g. shadows or some other non-lane markers picked up by Hough Transform\n",
    "    \"\"\"\n",
    "    left_lines = []\n",
    "    right_lines = []\n",
    "\n",
    "    for line in lines:\n",
    "        for x1,y1,x2,y2 in line:\n",
    "            slope = (y2-y1)/(x2-x1)\n",
    "            if (slope < 0.35 and slope > -0.35):\n",
    "                  continue\n",
    "            elif (slope <= -0.35):\n",
    "                  left_lines.append(line)\n",
    "            else:\n",
    "                right_lines.append(line)\n",
    "\n",
    "    return left_lines,right_lines\n",
    "\n",
    "def extrapolate_lines(left_lines, right_lines, mask_vertices):\n",
    "    \"\"\"\n",
    "    Extrapolates lines by fitting a line based on input set of x,y points.\n",
    "    \n",
    "    Main idea is to use the min & max y points of the mask (the one that was used to construct the region of interest) \n",
    "    as the min, max y points of the extrapolated lines because this is the set of vertical extents that needs to be \n",
    "    covered by the extrapolated lines. Now that we know the y points, we can find the x points by x = (y-b)/m.\n",
    "    \n",
    "    Retunrs an array of left and right extrapolated lines.\n",
    "    \"\"\"\n",
    "    left_lines_x_points = []\n",
    "    left_lines_y_points = []\n",
    "    right_lines_x_points = []\n",
    "    right_lines_y_points = []\n",
    "\n",
    "    #extract x,y points from all left lines\n",
    "    for line in left_lines:\n",
    "        for x1, y1, x2, y2 in line:\n",
    "            left_lines_x_points += [x1, x2]\n",
    "            left_lines_y_points += [y1, y2]\n",
    "\n",
    "    #extract x,y points from all right lines\n",
    "    for line in right_lines:\n",
    "        for x1, y1, x2, y2 in line:\n",
    "            right_lines_x_points += [x1, x2]\n",
    "            right_lines_y_points += [y1, y2]\n",
    "\n",
    "    #fit left line\n",
    "    left_line_fit = np.polyfit(left_lines_x_points, left_lines_y_points, 1)\n",
    "    #get m & b values\n",
    "    m_left,b_left = left_line_fit\n",
    "    #find max x by plugging in max y of the mask\n",
    "    max_x_left = int((mask_vertices[0][0][1]-b_left)//m_left)\n",
    "    #find min x by plugging in min y of the mask\n",
    "    min_x_left = int(( mask_vertices[0][1][1]-b_left)//m_left)\n",
    "    \n",
    "    #fit right line\n",
    "    right_line_fit = np.polyfit(right_lines_x_points, right_lines_y_points, 1)\n",
    "    #get m & b values\n",
    "    m_right,b_right = right_line_fit\n",
    "    #find max x by plugging in max y of the mask\n",
    "    max_x_right = int((mask_vertices[0][0][1]-b_right)//m_right)\n",
    "    #find min x by plugging in min y of the mask\n",
    "    min_x_right = int(( mask_vertices[0][2][1]-b_right)//m_right)\n",
    "    \n",
    "    extrapolated_lines = np.array([\n",
    "        [[min_x_left,  mask_vertices[0][2][1], max_x_left, mask_vertices[0][0][1]]],\n",
    "        [[min_x_right,  mask_vertices[0][1][1], max_x_right, mask_vertices[0][0][1]]]\n",
    "    ])\n",
    "    \n",
    "    return extrapolated_lines\n",
    "\n",
    "def find_lane_lines(input_image_full_path):\n",
    "    \"\"\"\n",
    "    Finds lane lines for an input image path and writes out the processed image to 'test_images_output' directory.\n",
    "    Internally it calls the 'process_image()' method\n",
    "    \"\"\"\n",
    "    print('Finding lane lines for: ',input_image_full_path)\n",
    "    image = mpimg.imread(input_image_full_path)\n",
    "    output_image = process_image(image)\n",
    "    \n",
    "    output_image_path_prefix = 'test_images_output/'\n",
    "    output_image_name = input_image_full_path.split('/')[-1]\n",
    "    output_image_full_path = output_image_path_prefix + output_image_name\n",
    "    #convert to RGB as cv2 uses BGR color scheme\n",
    "    output_image_RGB = cv2.cvtColor(output_image, cv2.COLOR_BGR2RGB)\n",
    "    print('Writing processed image: ',output_image_full_path, '\\n')\n",
    "    cv2.imwrite(output_image_full_path,output_image_RGB)\n",
    "\n",
    "def find_lane_lines_raw(input_image_full_path):\n",
    "    \"\"\"\n",
    "    Finds raw lane lines (Hough lines) for an input image path and writes out the processed image to 'test_images_output' directory.\n",
    "    Internally it calls the 'process_image_raw_lines()' method\n",
    "    \"\"\"\n",
    "    print('Finding raw lane lines for: ',input_image_full_path)\n",
    "    image = mpimg.imread(input_image_full_path)\n",
    "    output_image = process_image_raw_lines(image)\n",
    "    \n",
    "    output_image_path_prefix = 'test_images_output/raw-'\n",
    "    output_image_name = input_image_full_path.split('/')[-1]\n",
    "    output_image_full_path = output_image_path_prefix + output_image_name \n",
    "    #convert to RGB as cv2 uses BGR color scheme\n",
    "    output_image_RGB = cv2.cvtColor(output_image, cv2.COLOR_BGR2RGB)\n",
    "    print('Writing processed image: ',output_image_full_path, '\\n')\n",
    "    cv2.imwrite(output_image_full_path,output_image_RGB)    \n",
    "    \n",
    "def process_image(image):\n",
    "    \"\"\"\n",
    "    Main pipeline function that calls other helper fuctions to find lane lines\n",
    "    \"\"\"\n",
    "    #scale down image so that the region of interest mask fits in properly\n",
    "    if (image.shape[0] != 540 and image.shape[1] != 960):\n",
    "        image = cv2.resize(image,None,fx=0.75, fy=0.75, interpolation = cv2.INTER_CUBIC)\n",
    "        \n",
    "    # To make sure we only select lane lines, filter out non-white & non-yellow pixels.\n",
    "    # This is especially helpful when tree shadows & median create lines,\n",
    "    # which get interpreted as part of left or right lane lines\n",
    "    color_range = [(np.array([175, 175, 0], dtype = \"uint8\"), np.array([255, 255, 255], dtype = \"uint8\"))]\n",
    "    mask_white_yellow = cv2.inRange(image,color_range[0][0],color_range[0][1])\n",
    "    white_yellow_image = cv2.bitwise_and(image,image, mask= mask_white_yellow)\n",
    "    \n",
    "    #turn image to gray scale\n",
    "    gray_image = grayscale(white_yellow_image)\n",
    "    \n",
    "    # Define a kernel size and apply Gaussian smoothing\n",
    "    kernel_size = 5\n",
    "    blur_gray = gaussian_blur(gray_image, kernel_size)\n",
    "\n",
    "    # Parameters for Canny edge detection \n",
    "    low_threshold = 50\n",
    "    high_threshold = 115\n",
    "    canny_edges = canny(blur_gray, low_threshold, high_threshold)\n",
    "    \n",
    "    # Define a mask so that we only get lines from our region of interest i.e. filter out non-lane line area\n",
    "    imshape = image.shape\n",
    "    vertices = np.array([[(60,imshape[0]),(450, 320), (490, 320), (imshape[1],imshape[0])]], dtype=np.int32)\n",
    "    masked_edges,mask = region_of_interest(canny_edges, vertices)\n",
    "    \n",
    "    # Define the Hough transform parameters\n",
    "    rho = 2 # distance resolution in pixels of the Hough grid\n",
    "    theta = np.pi/180 # angular resolution in radians of the Hough grid\n",
    "    threshold = 30 # minimum number of votes (intersections in Hough grid cell)\n",
    "    min_line_length = 18 # minimum number of pixels making up a line\n",
    "    max_line_gap = 30 # maximum gap in pixels between connectable line segments\n",
    "    lines,hough_line_image = hough_lines(masked_edges, rho, theta, threshold, min_line_length, max_line_gap)\n",
    "    \n",
    "    #combined_image = weighted_img(hough_line_image, image)\n",
    "    \n",
    "    #find left and right lines\n",
    "    left_lines,right_lines = find_left_right_lines(lines)\n",
    "\n",
    "    #extrapolate lines \n",
    "    extrapolated_lines = extrapolate_lines(left_lines, right_lines, vertices)\n",
    "    \n",
    "    #Draw extrapolated lines on the original image\n",
    "    processed_image = np.copy(image)\n",
    "    draw_lines(processed_image, extrapolated_lines)\n",
    "    \n",
    "    return processed_image\n",
    "\n",
    "def process_image_raw_lines(image):\n",
    "    \"\"\"\n",
    "    Main pipeline function that calls other helper fuctions to find raw lane lines\n",
    "    \"\"\"\n",
    "    #scale down image so that the region of interest mask fits in properly\n",
    "    if (image.shape[0] != 540 and image.shape[1] != 960):\n",
    "        image = cv2.resize(image,None,fx=0.75, fy=0.75, interpolation = cv2.INTER_CUBIC)\n",
    "        \n",
    "    # To make sure we only select lane lines, filter out non-white & non-yellow pixels.\n",
    "    # This is especially helpful when tree shadows & median create lines,\n",
    "    # which get interpreted as part of left or right lane lines\n",
    "    color_range = [(np.array([175, 175, 0], dtype = \"uint8\"), np.array([255, 255, 255], dtype = \"uint8\"))]\n",
    "    mask_white_yellow = cv2.inRange(image,color_range[0][0],color_range[0][1])\n",
    "    white_yellow_image = cv2.bitwise_and(image,image, mask= mask_white_yellow)\n",
    "    \n",
    "    #turn image to gray scale\n",
    "    gray_image = grayscale(white_yellow_image)\n",
    "    \n",
    "    # Define a kernel size and apply Gaussian smoothing\n",
    "    kernel_size = 5\n",
    "    blur_gray = gaussian_blur(gray_image, kernel_size)\n",
    "\n",
    "    # Parameters for Canny edge detection \n",
    "    low_threshold = 50\n",
    "    high_threshold = 115\n",
    "    canny_edges = canny(blur_gray, low_threshold, high_threshold)\n",
    "    \n",
    "    # Define a mask so that we only get lines from our region of interest i.e. filter out non-lane line area\n",
    "    imshape = image.shape\n",
    "    vertices = np.array([[(60,imshape[0]),(450, 320), (490, 320), (imshape[1],imshape[0])]], dtype=np.int32)\n",
    "    masked_edges,mask = region_of_interest(canny_edges, vertices)\n",
    "    \n",
    "    # Define the Hough transform parameters\n",
    "    rho = 2 # distance resolution in pixels of the Hough grid\n",
    "    theta = np.pi/180 # angular resolution in radians of the Hough grid\n",
    "    threshold = 30 # minimum number of votes (intersections in Hough grid cell)\n",
    "    min_line_length = 18 # minimum number of pixels making up a line\n",
    "    max_line_gap = 30 # maximum gap in pixels between connectable line segments\n",
    "    lines,hough_line_image = hough_lines(masked_edges, rho, theta, threshold, min_line_length, max_line_gap)\n",
    "    \n",
    "    #combine Hough lines with original image\n",
    "    combined_image = weighted_img(hough_line_image, image)\n",
    "    \n",
    "    return combined_image"
   ]
  },
  {
   "cell_type": "code",
   "execution_count": 2,
   "metadata": {},
   "outputs": [
    {
     "name": "stdout",
     "output_type": "stream",
     "text": [
      "Finding raw lane lines for:  test_images/solidWhiteCurve.jpg\n",
      "Writing processed image:  test_images_output/raw-solidWhiteCurve.jpg \n",
      "\n",
      "Finding raw lane lines for:  test_images/solidWhiteRight.jpg\n",
      "Writing processed image:  test_images_output/raw-solidWhiteRight.jpg \n",
      "\n",
      "Finding raw lane lines for:  test_images/solidYellowCurve.jpg\n",
      "Writing processed image:  test_images_output/raw-solidYellowCurve.jpg \n",
      "\n",
      "Finding raw lane lines for:  test_images/solidYellowCurve2.jpg\n",
      "Writing processed image:  test_images_output/raw-solidYellowCurve2.jpg \n",
      "\n",
      "Finding raw lane lines for:  test_images/solidYellowLeft.jpg\n",
      "Writing processed image:  test_images_output/raw-solidYellowLeft.jpg \n",
      "\n",
      "Finding raw lane lines for:  test_images/whiteCarLaneSwitch.jpg\n",
      "Writing processed image:  test_images_output/raw-whiteCarLaneSwitch.jpg \n",
      "\n"
     ]
    }
   ],
   "source": [
    "image_list = os.listdir(\"test_images/\")\n",
    "for image_name in image_list:\n",
    "    full_image_path = 'test_images/' + image_name\n",
    "    find_lane_lines_raw(full_image_path)\n"
   ]
  },
  {
   "cell_type": "code",
   "execution_count": 3,
   "metadata": {},
   "outputs": [
    {
     "name": "stdout",
     "output_type": "stream",
     "text": [
      "Finding lane lines for:  test_images/solidWhiteCurve.jpg\n",
      "Writing processed image:  test_images_output/solidWhiteCurve.jpg \n",
      "\n",
      "Finding lane lines for:  test_images/solidWhiteRight.jpg\n",
      "Writing processed image:  test_images_output/solidWhiteRight.jpg \n",
      "\n",
      "Finding lane lines for:  test_images/solidYellowCurve.jpg\n",
      "Writing processed image:  test_images_output/solidYellowCurve.jpg \n",
      "\n",
      "Finding lane lines for:  test_images/solidYellowCurve2.jpg\n",
      "Writing processed image:  test_images_output/solidYellowCurve2.jpg \n",
      "\n",
      "Finding lane lines for:  test_images/solidYellowLeft.jpg\n",
      "Writing processed image:  test_images_output/solidYellowLeft.jpg \n",
      "\n",
      "Finding lane lines for:  test_images/whiteCarLaneSwitch.jpg\n",
      "Writing processed image:  test_images_output/whiteCarLaneSwitch.jpg \n",
      "\n"
     ]
    }
   ],
   "source": [
    "image_list = os.listdir(\"test_images/\")\n",
    "for image_name in image_list:\n",
    "    full_image_path = 'test_images/' + image_name\n",
    "    find_lane_lines(full_image_path)"
   ]
  },
  {
   "cell_type": "code",
   "execution_count": 4,
   "metadata": {},
   "outputs": [
    {
     "name": "stdout",
     "output_type": "stream",
     "text": [
      "[MoviePy] >>>> Building video test_videos_output/raw-solidWhiteRight.mp4\n",
      "[MoviePy] Writing video test_videos_output/raw-solidWhiteRight.mp4\n"
     ]
    },
    {
     "name": "stderr",
     "output_type": "stream",
     "text": [
      "100%|████████████████████████████████████████████████████████████████████████████████████████████████████████████████████████████████████████████████████████████▎| 221/222 [00:07<00:00, 24.48it/s]\n"
     ]
    },
    {
     "name": "stdout",
     "output_type": "stream",
     "text": [
      "[MoviePy] Done.\n",
      "[MoviePy] >>>> Video ready: test_videos_output/raw-solidWhiteRight.mp4 \n",
      "\n",
      "Wall time: 9.07 s\n"
     ]
    }
   ],
   "source": [
    "white_output_raw = 'test_videos_output/raw-solidWhiteRight.mp4'\n",
    "clip1_raw = VideoFileClip(\"test_videos/solidWhiteRight.mp4\")\n",
    "white_clip_raw = clip1_raw.fl_image(process_image_raw_lines) \n",
    "%time white_clip_raw.write_videofile(white_output_raw, audio=False)"
   ]
  },
  {
   "cell_type": "code",
   "execution_count": 5,
   "metadata": {},
   "outputs": [
    {
     "data": {
      "text/html": [
       "\n",
       "<video width=\"960\" height=\"540\" controls>\n",
       "  <source src=\"test_videos_output/raw-solidWhiteRight.mp4\" type=\"video/mp4\">\n",
       "</video>\n"
      ],
      "text/plain": [
       "<IPython.core.display.HTML object>"
      ]
     },
     "execution_count": 5,
     "metadata": {},
     "output_type": "execute_result"
    }
   ],
   "source": [
    "HTML(\"\"\"\n",
    "<video width=\"960\" height=\"540\" controls>\n",
    "  <source src=\"{0}\" type=\"video/mp4\">\n",
    "</video>\n",
    "\"\"\".format(white_output_raw))"
   ]
  },
  {
   "cell_type": "code",
   "execution_count": 6,
   "metadata": {},
   "outputs": [
    {
     "name": "stdout",
     "output_type": "stream",
     "text": [
      "[MoviePy] >>>> Building video test_videos_output/solidWhiteRight.mp4\n",
      "[MoviePy] Writing video test_videos_output/solidWhiteRight.mp4\n"
     ]
    },
    {
     "name": "stderr",
     "output_type": "stream",
     "text": [
      "100%|████████████████████████████████████████████████████████████████████████████████████████████████████████████████████████████████████████████████████████████▎| 221/222 [00:07<00:00, 27.26it/s]\n"
     ]
    },
    {
     "name": "stdout",
     "output_type": "stream",
     "text": [
      "[MoviePy] Done.\n",
      "[MoviePy] >>>> Video ready: test_videos_output/solidWhiteRight.mp4 \n",
      "\n",
      "Wall time: 9.03 s\n"
     ]
    }
   ],
   "source": [
    "white_output = 'test_videos_output/solidWhiteRight.mp4'\n",
    "clip1 = VideoFileClip(\"test_videos/solidWhiteRight.mp4\")\n",
    "white_clip = clip1.fl_image(process_image) \n",
    "%time white_clip.write_videofile(white_output, audio=False)"
   ]
  },
  {
   "cell_type": "code",
   "execution_count": 7,
   "metadata": {},
   "outputs": [
    {
     "data": {
      "text/html": [
       "\n",
       "<video width=\"960\" height=\"540\" controls>\n",
       "  <source src=\"test_videos_output/solidWhiteRight.mp4\" type=\"video/mp4\">\n",
       "</video>\n"
      ],
      "text/plain": [
       "<IPython.core.display.HTML object>"
      ]
     },
     "execution_count": 7,
     "metadata": {},
     "output_type": "execute_result"
    }
   ],
   "source": [
    "HTML(\"\"\"\n",
    "<video width=\"960\" height=\"540\" controls>\n",
    "  <source src=\"{0}\" type=\"video/mp4\">\n",
    "</video>\n",
    "\"\"\".format(white_output))"
   ]
  },
  {
   "cell_type": "code",
   "execution_count": 8,
   "metadata": {},
   "outputs": [
    {
     "name": "stdout",
     "output_type": "stream",
     "text": [
      "[MoviePy] >>>> Building video test_videos_output/raw-solidYellowLeft.mp4\n",
      "[MoviePy] Writing video test_videos_output/raw-solidYellowLeft.mp4\n"
     ]
    },
    {
     "name": "stderr",
     "output_type": "stream",
     "text": [
      "100%|████████████████████████████████████████████████████████████████████████████████████████████████████████████████████████████████████████████████████████████▊| 681/682 [00:26<00:00, 24.73it/s]\n"
     ]
    },
    {
     "name": "stdout",
     "output_type": "stream",
     "text": [
      "[MoviePy] Done.\n",
      "[MoviePy] >>>> Video ready: test_videos_output/raw-solidYellowLeft.mp4 \n",
      "\n",
      "Wall time: 28 s\n"
     ]
    }
   ],
   "source": [
    "yellow_output_raw = 'test_videos_output/raw-solidYellowLeft.mp4'\n",
    "clip2_raw = VideoFileClip('test_videos/solidYellowLeft.mp4')\n",
    "yellow_clip_raw = clip2_raw.fl_image(process_image_raw_lines)\n",
    "%time yellow_clip_raw.write_videofile(yellow_output_raw, audio=False)"
   ]
  },
  {
   "cell_type": "code",
   "execution_count": 9,
   "metadata": {},
   "outputs": [
    {
     "data": {
      "text/html": [
       "\n",
       "<video width=\"960\" height=\"540\" controls>\n",
       "  <source src=\"test_videos_output/raw-solidYellowLeft.mp4\" type=\"video/mp4\">\n",
       "</video>\n"
      ],
      "text/plain": [
       "<IPython.core.display.HTML object>"
      ]
     },
     "execution_count": 9,
     "metadata": {},
     "output_type": "execute_result"
    }
   ],
   "source": [
    "HTML(\"\"\"\n",
    "<video width=\"960\" height=\"540\" controls>\n",
    "  <source src=\"{0}\" type=\"video/mp4\">\n",
    "</video>\n",
    "\"\"\".format(yellow_output_raw))"
   ]
  },
  {
   "cell_type": "code",
   "execution_count": 10,
   "metadata": {},
   "outputs": [
    {
     "name": "stdout",
     "output_type": "stream",
     "text": [
      "[MoviePy] >>>> Building video test_videos_output/solidYellowLeft.mp4\n",
      "[MoviePy] Writing video test_videos_output/solidYellowLeft.mp4\n"
     ]
    },
    {
     "name": "stderr",
     "output_type": "stream",
     "text": [
      "100%|████████████████████████████████████████████████████████████████████████████████████████████████████████████████████████████████████████████████████████████▊| 681/682 [00:25<00:00, 27.11it/s]\n"
     ]
    },
    {
     "name": "stdout",
     "output_type": "stream",
     "text": [
      "[MoviePy] Done.\n",
      "[MoviePy] >>>> Video ready: test_videos_output/solidYellowLeft.mp4 \n",
      "\n",
      "Wall time: 26.3 s\n"
     ]
    }
   ],
   "source": [
    "yellow_output = 'test_videos_output/solidYellowLeft.mp4'\n",
    "clip2 = VideoFileClip('test_videos/solidYellowLeft.mp4')\n",
    "yellow_clip = clip2.fl_image(process_image)\n",
    "%time yellow_clip.write_videofile(yellow_output, audio=False)"
   ]
  },
  {
   "cell_type": "code",
   "execution_count": 11,
   "metadata": {},
   "outputs": [
    {
     "data": {
      "text/html": [
       "\n",
       "<video width=\"960\" height=\"540\" controls>\n",
       "  <source src=\"test_videos_output/solidYellowLeft.mp4\" type=\"video/mp4\">\n",
       "</video>\n"
      ],
      "text/plain": [
       "<IPython.core.display.HTML object>"
      ]
     },
     "execution_count": 11,
     "metadata": {},
     "output_type": "execute_result"
    }
   ],
   "source": [
    "HTML(\"\"\"\n",
    "<video width=\"960\" height=\"540\" controls>\n",
    "  <source src=\"{0}\" type=\"video/mp4\">\n",
    "</video>\n",
    "\"\"\".format(yellow_output))"
   ]
  },
  {
   "cell_type": "code",
   "execution_count": 12,
   "metadata": {},
   "outputs": [
    {
     "name": "stdout",
     "output_type": "stream",
     "text": [
      "[MoviePy] >>>> Building video test_videos_output/raw-challenge.mp4\n",
      "[MoviePy] Writing video test_videos_output/raw-challenge.mp4\n"
     ]
    },
    {
     "name": "stderr",
     "output_type": "stream",
     "text": [
      "100%|█████████████████████████████████████████████████████████████████████████████████████████████████████████████████████████████████████████████████████████████| 251/251 [00:13<00:00, 19.55it/s]\n"
     ]
    },
    {
     "name": "stdout",
     "output_type": "stream",
     "text": [
      "[MoviePy] Done.\n",
      "[MoviePy] >>>> Video ready: test_videos_output/raw-challenge.mp4 \n",
      "\n",
      "Wall time: 14.4 s\n"
     ]
    }
   ],
   "source": [
    "challenge_output_raw = 'test_videos_output/raw-challenge.mp4'\n",
    "clip3_raw = VideoFileClip('test_videos/challenge.mp4')\n",
    "challenge_clip_raw = clip3_raw.fl_image(process_image_raw_lines)\n",
    "%time challenge_clip_raw.write_videofile(challenge_output_raw, audio=False)"
   ]
  },
  {
   "cell_type": "code",
   "execution_count": 13,
   "metadata": {},
   "outputs": [
    {
     "data": {
      "text/html": [
       "\n",
       "<video width=\"960\" height=\"540\" controls>\n",
       "  <source src=\"test_videos_output/raw-challenge.mp4\" type=\"video/mp4\">\n",
       "</video>\n"
      ],
      "text/plain": [
       "<IPython.core.display.HTML object>"
      ]
     },
     "execution_count": 13,
     "metadata": {},
     "output_type": "execute_result"
    }
   ],
   "source": [
    "HTML(\"\"\"\n",
    "<video width=\"960\" height=\"540\" controls>\n",
    "  <source src=\"{0}\" type=\"video/mp4\">\n",
    "</video>\n",
    "\"\"\".format(challenge_output_raw))"
   ]
  },
  {
   "cell_type": "code",
   "execution_count": 14,
   "metadata": {},
   "outputs": [
    {
     "name": "stdout",
     "output_type": "stream",
     "text": [
      "[MoviePy] >>>> Building video test_videos_output/challenge.mp4\n",
      "[MoviePy] Writing video test_videos_output/challenge.mp4\n"
     ]
    },
    {
     "name": "stderr",
     "output_type": "stream",
     "text": [
      "100%|█████████████████████████████████████████████████████████████████████████████████████████████████████████████████████████████████████████████████████████████| 251/251 [00:13<00:00, 19.34it/s]\n"
     ]
    },
    {
     "name": "stdout",
     "output_type": "stream",
     "text": [
      "[MoviePy] Done.\n",
      "[MoviePy] >>>> Video ready: test_videos_output/challenge.mp4 \n",
      "\n",
      "Wall time: 15.3 s\n"
     ]
    }
   ],
   "source": [
    "challenge_output = 'test_videos_output/challenge.mp4'\n",
    "clip3 = VideoFileClip('test_videos/challenge.mp4')\n",
    "challenge_clip = clip3.fl_image(process_image)\n",
    "%time challenge_clip.write_videofile(challenge_output, audio=False)"
   ]
  },
  {
   "cell_type": "code",
   "execution_count": 15,
   "metadata": {},
   "outputs": [
    {
     "data": {
      "text/html": [
       "\n",
       "<video width=\"960\" height=\"540\" controls>\n",
       "  <source src=\"test_videos_output/challenge.mp4\" type=\"video/mp4\">\n",
       "</video>\n"
      ],
      "text/plain": [
       "<IPython.core.display.HTML object>"
      ]
     },
     "execution_count": 15,
     "metadata": {},
     "output_type": "execute_result"
    }
   ],
   "source": [
    "HTML(\"\"\"\n",
    "<video width=\"960\" height=\"540\" controls>\n",
    "  <source src=\"{0}\" type=\"video/mp4\">\n",
    "</video>\n",
    "\"\"\".format(challenge_output))"
   ]
  },
  {
   "cell_type": "code",
   "execution_count": null,
   "metadata": {},
   "outputs": [],
   "source": []
  }
 ],
 "metadata": {
  "anaconda-cloud": {},
  "kernelspec": {
   "display_name": "Python 3",
   "language": "python",
   "name": "python3"
  },
  "language_info": {
   "codemirror_mode": {
    "name": "ipython",
    "version": 3
   },
   "file_extension": ".py",
   "mimetype": "text/x-python",
   "name": "python",
   "nbconvert_exporter": "python",
   "pygments_lexer": "ipython3",
   "version": "3.5.2"
  }
 },
 "nbformat": 4,
 "nbformat_minor": 1
}
